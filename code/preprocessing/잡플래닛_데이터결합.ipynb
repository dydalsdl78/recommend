{
 "cells": [
  {
   "cell_type": "code",
   "execution_count": 4,
   "metadata": {},
   "outputs": [],
   "source": [
    "import glob\n",
    "import pandas as pd"
   ]
  },
  {
   "cell_type": "code",
   "execution_count": 31,
   "metadata": {},
   "outputs": [],
   "source": [
    "data1 = pd.read_csv('project\\job1.csv' ,index_col=['Unnamed: 0'])\n",
    "data2 = pd.read_csv('project\\job2.csv' ,index_col=['Unnamed: 0'])\n",
    "data3 = pd.read_csv('project\\job3.csv' ,index_col=['Unnamed: 0'])\n",
    "data4 = pd.read_csv('project\\job4.csv' ,index_col=['Unnamed: 0'])\n",
    "data5 = pd.read_csv('project\\job5.csv' ,index_col=['Unnamed: 0'])\n",
    "data6 = pd.read_csv('project\\job6.csv' ,index_col=['Unnamed: 0'])\n",
    "data7 = pd.read_csv('project\\job7.csv' ,index_col=['Unnamed: 0'])\n",
    "data8 = pd.read_csv('project\\job8.csv' ,index_col=['Unnamed: 0'])\n",
    "data9 = pd.read_csv('project\\job9.csv' ,index_col=['Unnamed: 0'])\n",
    "data10 = pd.read_csv('project\\job10.csv' ,index_col=['Unnamed: 0'])"
   ]
  },
  {
   "cell_type": "code",
   "execution_count": 33,
   "metadata": {},
   "outputs": [],
   "source": [
    "t_data = pd.concat([data1, data2 ,data3, data4, data5, data6, data7, data8, data9, data10])"
   ]
  },
  {
   "cell_type": "code",
   "execution_count": 39,
   "metadata": {},
   "outputs": [],
   "source": [
    "t_data = t_data.drop_duplicates(['제목'])\n",
    "t_data = t_data.reset_index(drop=True)"
   ]
  },
  {
   "cell_type": "code",
   "execution_count": 43,
   "metadata": {},
   "outputs": [],
   "source": [
    "t_data.to_csv('t_data.csv', index=None)"
   ]
  },
  {
   "cell_type": "code",
   "execution_count": null,
   "metadata": {},
   "outputs": [],
   "source": []
  }
 ],
 "metadata": {
  "kernelspec": {
   "display_name": "Python 3",
   "language": "python",
   "name": "python3"
  },
  "language_info": {
   "codemirror_mode": {
    "name": "ipython",
    "version": 3
   },
   "file_extension": ".py",
   "mimetype": "text/x-python",
   "name": "python",
   "nbconvert_exporter": "python",
   "pygments_lexer": "ipython3",
   "version": "3.7.9"
  }
 },
 "nbformat": 4,
 "nbformat_minor": 2
}
